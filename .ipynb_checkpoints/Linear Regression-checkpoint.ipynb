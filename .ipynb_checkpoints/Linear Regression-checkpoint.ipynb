{
 "cells": [
  {
   "cell_type": "code",
   "execution_count": 1,
   "metadata": {},
   "outputs": [],
   "source": [
    "import numpy as np\n",
    "import pandas as pd\n",
    "import matplotlib.pyplot as plt"
   ]
  },
  {
   "cell_type": "code",
   "execution_count": 2,
   "metadata": {},
   "outputs": [
    {
     "name": "stdout",
     "output_type": "stream",
     "text": [
      "     6.1101    17.592\n",
      "0    5.5277   9.13020\n",
      "1    8.5186  13.66200\n",
      "2    7.0032  11.85400\n",
      "3    5.8598   6.82330\n",
      "4    8.3829  11.88600\n",
      "..      ...       ...\n",
      "91   5.8707   7.20290\n",
      "92   5.3054   1.98690\n",
      "93   8.2934   0.14454\n",
      "94  13.3940   9.05510\n",
      "95   5.4369   0.61705\n",
      "\n",
      "[96 rows x 2 columns]\n"
     ]
    }
   ],
   "source": [
    "# this is a pandas series. it is human-readable\n",
    "df = pd.read_csv(r'C:\\Users\\User\\I am learning ML\\Linear Regression\\ex1data1.txt')\n",
    "print(df)"
   ]
  },
  {
   "cell_type": "code",
   "execution_count": null,
   "metadata": {},
   "outputs": [],
   "source": []
  },
  {
   "cell_type": "code",
   "execution_count": 3,
   "metadata": {},
   "outputs": [
    {
     "name": "stdout",
     "output_type": "stream",
     "text": [
      "[[ 6.1101  17.592  ]\n",
      " [ 5.5277   9.1302 ]\n",
      " [ 8.5186  13.662  ]\n",
      " [ 7.0032  11.854  ]\n",
      " [ 5.8598   6.8233 ]\n",
      " [ 8.3829  11.886  ]\n",
      " [ 7.4764   4.3483 ]\n",
      " [ 8.5781  12.     ]\n",
      " [ 6.4862   6.5987 ]\n",
      " [ 5.0546   3.8166 ]\n",
      " [ 5.7107   3.2522 ]\n",
      " [14.164   15.505  ]\n",
      " [ 5.734    3.1551 ]\n",
      " [ 8.4084   7.2258 ]\n",
      " [ 5.6407   0.71618]\n",
      " [ 5.3794   3.5129 ]\n",
      " [ 6.3654   5.3048 ]\n",
      " [ 5.1301   0.56077]\n",
      " [ 6.4296   3.6518 ]\n",
      " [ 7.0708   5.3893 ]\n",
      " [ 6.1891   3.1386 ]\n",
      " [20.27    21.767  ]\n",
      " [ 5.4901   4.263  ]\n",
      " [ 6.3261   5.1875 ]\n",
      " [ 5.5649   3.0825 ]\n",
      " [18.945   22.638  ]\n",
      " [12.828   13.501  ]\n",
      " [10.957    7.0467 ]\n",
      " [13.176   14.692  ]\n",
      " [22.203   24.147  ]\n",
      " [ 5.2524  -1.22   ]\n",
      " [ 6.5894   5.9966 ]\n",
      " [ 9.2482  12.134  ]\n",
      " [ 5.8918   1.8495 ]\n",
      " [ 8.2111   6.5426 ]\n",
      " [ 7.9334   4.5623 ]\n",
      " [ 8.0959   4.1164 ]\n",
      " [ 5.6063   3.3928 ]\n",
      " [12.836   10.117  ]\n",
      " [ 6.3534   5.4974 ]\n",
      " [ 5.4069   0.55657]\n",
      " [ 6.8825   3.9115 ]\n",
      " [11.708    5.3854 ]\n",
      " [ 5.7737   2.4406 ]\n",
      " [ 7.8247   6.7318 ]\n",
      " [ 7.0931   1.0463 ]\n",
      " [ 5.0702   5.1337 ]\n",
      " [ 5.8014   1.844  ]\n",
      " [11.7      8.0043 ]\n",
      " [ 5.5416   1.0179 ]\n",
      " [ 7.5402   6.7504 ]\n",
      " [ 5.3077   1.8396 ]\n",
      " [ 7.4239   4.2885 ]\n",
      " [ 7.6031   4.9981 ]\n",
      " [ 6.3328   1.4233 ]\n",
      " [ 6.3589  -1.4211 ]\n",
      " [ 6.2742   2.4756 ]\n",
      " [ 5.6397   4.6042 ]\n",
      " [ 9.3102   3.9624 ]\n",
      " [ 9.4536   5.4141 ]\n",
      " [ 8.8254   5.1694 ]\n",
      " [ 5.1793  -0.74279]\n",
      " [21.279   17.929  ]\n",
      " [14.908   12.054  ]\n",
      " [18.959   17.054  ]\n",
      " [ 7.2182   4.8852 ]\n",
      " [ 8.2951   5.7442 ]\n",
      " [10.236    7.7754 ]\n",
      " [ 5.4994   1.0173 ]\n",
      " [20.341   20.992  ]\n",
      " [10.136    6.6799 ]\n",
      " [ 7.3345   4.0259 ]\n",
      " [ 6.0062   1.2784 ]\n",
      " [ 7.2259   3.3411 ]\n",
      " [ 5.0269  -2.6807 ]\n",
      " [ 6.5479   0.29678]\n",
      " [ 7.5386   3.8845 ]\n",
      " [ 5.0365   5.7014 ]\n",
      " [10.274    6.7526 ]\n",
      " [ 5.1077   2.0576 ]\n",
      " [ 5.7292   0.47953]\n",
      " [ 5.1884   0.20421]\n",
      " [ 6.3557   0.67861]\n",
      " [ 9.7687   7.5435 ]\n",
      " [ 6.5159   5.3436 ]\n",
      " [ 8.5172   4.2415 ]\n",
      " [ 9.1802   6.7981 ]\n",
      " [ 6.002    0.92695]\n",
      " [ 5.5204   0.152  ]\n",
      " [ 5.0594   2.8214 ]\n",
      " [ 5.7077   1.8451 ]\n",
      " [ 7.6366   4.2959 ]\n",
      " [ 5.8707   7.2029 ]\n",
      " [ 5.3054   1.9869 ]\n",
      " [ 8.2934   0.14454]\n",
      " [13.394    9.0551 ]\n",
      " [ 5.4369   0.61705]]\n"
     ]
    }
   ],
   "source": [
    "# convert the pd series to a numpy array. it is computer readable\n",
    "arr=np.loadtxt(\"ex1data1.txt\",delimiter=\",\")\n",
    "print(arr)"
   ]
  },
  {
   "cell_type": "code",
   "execution_count": 4,
   "metadata": {},
   "outputs": [],
   "source": [
    "# separate the x and y-axis\n",
    "X = arr[: , 0]\n",
    "Y=arr[:, 1]"
   ]
  },
  {
   "cell_type": "code",
   "execution_count": 5,
   "metadata": {},
   "outputs": [
    {
     "data": {
      "text/plain": [
       "array([[ 1.    ,  6.1101],\n",
       "       [ 1.    ,  5.5277],\n",
       "       [ 1.    ,  8.5186],\n",
       "       [ 1.    ,  7.0032],\n",
       "       [ 1.    ,  5.8598],\n",
       "       [ 1.    ,  8.3829],\n",
       "       [ 1.    ,  7.4764],\n",
       "       [ 1.    ,  8.5781],\n",
       "       [ 1.    ,  6.4862],\n",
       "       [ 1.    ,  5.0546],\n",
       "       [ 1.    ,  5.7107],\n",
       "       [ 1.    , 14.164 ],\n",
       "       [ 1.    ,  5.734 ],\n",
       "       [ 1.    ,  8.4084],\n",
       "       [ 1.    ,  5.6407],\n",
       "       [ 1.    ,  5.3794],\n",
       "       [ 1.    ,  6.3654],\n",
       "       [ 1.    ,  5.1301],\n",
       "       [ 1.    ,  6.4296],\n",
       "       [ 1.    ,  7.0708],\n",
       "       [ 1.    ,  6.1891],\n",
       "       [ 1.    , 20.27  ],\n",
       "       [ 1.    ,  5.4901],\n",
       "       [ 1.    ,  6.3261],\n",
       "       [ 1.    ,  5.5649],\n",
       "       [ 1.    , 18.945 ],\n",
       "       [ 1.    , 12.828 ],\n",
       "       [ 1.    , 10.957 ],\n",
       "       [ 1.    , 13.176 ],\n",
       "       [ 1.    , 22.203 ],\n",
       "       [ 1.    ,  5.2524],\n",
       "       [ 1.    ,  6.5894],\n",
       "       [ 1.    ,  9.2482],\n",
       "       [ 1.    ,  5.8918],\n",
       "       [ 1.    ,  8.2111],\n",
       "       [ 1.    ,  7.9334],\n",
       "       [ 1.    ,  8.0959],\n",
       "       [ 1.    ,  5.6063],\n",
       "       [ 1.    , 12.836 ],\n",
       "       [ 1.    ,  6.3534],\n",
       "       [ 1.    ,  5.4069],\n",
       "       [ 1.    ,  6.8825],\n",
       "       [ 1.    , 11.708 ],\n",
       "       [ 1.    ,  5.7737],\n",
       "       [ 1.    ,  7.8247],\n",
       "       [ 1.    ,  7.0931],\n",
       "       [ 1.    ,  5.0702],\n",
       "       [ 1.    ,  5.8014],\n",
       "       [ 1.    , 11.7   ],\n",
       "       [ 1.    ,  5.5416],\n",
       "       [ 1.    ,  7.5402],\n",
       "       [ 1.    ,  5.3077],\n",
       "       [ 1.    ,  7.4239],\n",
       "       [ 1.    ,  7.6031],\n",
       "       [ 1.    ,  6.3328],\n",
       "       [ 1.    ,  6.3589],\n",
       "       [ 1.    ,  6.2742],\n",
       "       [ 1.    ,  5.6397],\n",
       "       [ 1.    ,  9.3102],\n",
       "       [ 1.    ,  9.4536],\n",
       "       [ 1.    ,  8.8254],\n",
       "       [ 1.    ,  5.1793],\n",
       "       [ 1.    , 21.279 ],\n",
       "       [ 1.    , 14.908 ],\n",
       "       [ 1.    , 18.959 ],\n",
       "       [ 1.    ,  7.2182],\n",
       "       [ 1.    ,  8.2951],\n",
       "       [ 1.    , 10.236 ],\n",
       "       [ 1.    ,  5.4994],\n",
       "       [ 1.    , 20.341 ],\n",
       "       [ 1.    , 10.136 ],\n",
       "       [ 1.    ,  7.3345],\n",
       "       [ 1.    ,  6.0062],\n",
       "       [ 1.    ,  7.2259],\n",
       "       [ 1.    ,  5.0269],\n",
       "       [ 1.    ,  6.5479],\n",
       "       [ 1.    ,  7.5386],\n",
       "       [ 1.    ,  5.0365],\n",
       "       [ 1.    , 10.274 ],\n",
       "       [ 1.    ,  5.1077],\n",
       "       [ 1.    ,  5.7292],\n",
       "       [ 1.    ,  5.1884],\n",
       "       [ 1.    ,  6.3557],\n",
       "       [ 1.    ,  9.7687],\n",
       "       [ 1.    ,  6.5159],\n",
       "       [ 1.    ,  8.5172],\n",
       "       [ 1.    ,  9.1802],\n",
       "       [ 1.    ,  6.002 ],\n",
       "       [ 1.    ,  5.5204],\n",
       "       [ 1.    ,  5.0594],\n",
       "       [ 1.    ,  5.7077],\n",
       "       [ 1.    ,  7.6366],\n",
       "       [ 1.    ,  5.8707],\n",
       "       [ 1.    ,  5.3054],\n",
       "       [ 1.    ,  8.2934],\n",
       "       [ 1.    , 13.394 ],\n",
       "       [ 1.    ,  5.4369]])"
      ]
     },
     "execution_count": 5,
     "metadata": {},
     "output_type": "execute_result"
    }
   ],
   "source": [
    "#reshape the array of x axis to a 2-d array by adding ones to index O column\n",
    "X = np.vstack((np.ones((X.size, )), X)).T\n",
    "X"
   ]
  },
  {
   "cell_type": "code",
   "execution_count": 6,
   "metadata": {},
   "outputs": [
    {
     "data": {
      "text/plain": [
       "array([[17.592  ],\n",
       "       [ 9.1302 ],\n",
       "       [13.662  ],\n",
       "       [11.854  ],\n",
       "       [ 6.8233 ],\n",
       "       [11.886  ],\n",
       "       [ 4.3483 ],\n",
       "       [12.     ],\n",
       "       [ 6.5987 ],\n",
       "       [ 3.8166 ],\n",
       "       [ 3.2522 ],\n",
       "       [15.505  ],\n",
       "       [ 3.1551 ],\n",
       "       [ 7.2258 ],\n",
       "       [ 0.71618],\n",
       "       [ 3.5129 ],\n",
       "       [ 5.3048 ],\n",
       "       [ 0.56077],\n",
       "       [ 3.6518 ],\n",
       "       [ 5.3893 ],\n",
       "       [ 3.1386 ],\n",
       "       [21.767  ],\n",
       "       [ 4.263  ],\n",
       "       [ 5.1875 ],\n",
       "       [ 3.0825 ],\n",
       "       [22.638  ],\n",
       "       [13.501  ],\n",
       "       [ 7.0467 ],\n",
       "       [14.692  ],\n",
       "       [24.147  ],\n",
       "       [-1.22   ],\n",
       "       [ 5.9966 ],\n",
       "       [12.134  ],\n",
       "       [ 1.8495 ],\n",
       "       [ 6.5426 ],\n",
       "       [ 4.5623 ],\n",
       "       [ 4.1164 ],\n",
       "       [ 3.3928 ],\n",
       "       [10.117  ],\n",
       "       [ 5.4974 ],\n",
       "       [ 0.55657],\n",
       "       [ 3.9115 ],\n",
       "       [ 5.3854 ],\n",
       "       [ 2.4406 ],\n",
       "       [ 6.7318 ],\n",
       "       [ 1.0463 ],\n",
       "       [ 5.1337 ],\n",
       "       [ 1.844  ],\n",
       "       [ 8.0043 ],\n",
       "       [ 1.0179 ],\n",
       "       [ 6.7504 ],\n",
       "       [ 1.8396 ],\n",
       "       [ 4.2885 ],\n",
       "       [ 4.9981 ],\n",
       "       [ 1.4233 ],\n",
       "       [-1.4211 ],\n",
       "       [ 2.4756 ],\n",
       "       [ 4.6042 ],\n",
       "       [ 3.9624 ],\n",
       "       [ 5.4141 ],\n",
       "       [ 5.1694 ],\n",
       "       [-0.74279],\n",
       "       [17.929  ],\n",
       "       [12.054  ],\n",
       "       [17.054  ],\n",
       "       [ 4.8852 ],\n",
       "       [ 5.7442 ],\n",
       "       [ 7.7754 ],\n",
       "       [ 1.0173 ],\n",
       "       [20.992  ],\n",
       "       [ 6.6799 ],\n",
       "       [ 4.0259 ],\n",
       "       [ 1.2784 ],\n",
       "       [ 3.3411 ],\n",
       "       [-2.6807 ],\n",
       "       [ 0.29678],\n",
       "       [ 3.8845 ],\n",
       "       [ 5.7014 ],\n",
       "       [ 6.7526 ],\n",
       "       [ 2.0576 ],\n",
       "       [ 0.47953],\n",
       "       [ 0.20421],\n",
       "       [ 0.67861],\n",
       "       [ 7.5435 ],\n",
       "       [ 5.3436 ],\n",
       "       [ 4.2415 ],\n",
       "       [ 6.7981 ],\n",
       "       [ 0.92695],\n",
       "       [ 0.152  ],\n",
       "       [ 2.8214 ],\n",
       "       [ 1.8451 ],\n",
       "       [ 4.2959 ],\n",
       "       [ 7.2029 ],\n",
       "       [ 1.9869 ],\n",
       "       [ 0.14454],\n",
       "       [ 9.0551 ],\n",
       "       [ 0.61705]])"
      ]
     },
     "execution_count": 6,
     "metadata": {},
     "output_type": "execute_result"
    }
   ],
   "source": [
    "#reshape the array of Y axis to a vector\n",
    "Y=arr[:, 1].reshape(Y.size, 1)\n",
    "Y\n"
   ]
  },
  {
   "cell_type": "code",
   "execution_count": 7,
   "metadata": {},
   "outputs": [
    {
     "name": "stdout",
     "output_type": "stream",
     "text": [
      "(97, 2)\n",
      "(97, 1)\n"
     ]
    }
   ],
   "source": [
    "#print the shape of X and Y\n",
    "print(X.shape)\n",
    "print(Y.shape)"
   ]
  },
  {
   "cell_type": "code",
   "execution_count": 8,
   "metadata": {},
   "outputs": [
    {
     "data": {
      "text/plain": [
       "<function matplotlib.pyplot.show(*args, **kw)>"
      ]
     },
     "execution_count": 8,
     "metadata": {},
     "output_type": "execute_result"
    },
    {
     "data": {
      "image/png": "[encoded data removed]",
      "text/plain": [
       "<Figure size 432x288 with 1 Axes>"
      ]
     },
     "metadata": {
      "needs_background": "light"
     },
     "output_type": "display_data"
    }
   ],
   "source": [
    "#plot the results on a graph\n",
    "plt.xlabel('house size')\n",
    "plt.ylabel('price')\n",
    "plt.scatter(X[:, 1], Y)\n",
    "plt.show"
   ]
  },
  {
   "cell_type": "code",
   "execution_count": 9,
   "metadata": {},
   "outputs": [],
   "source": [
    "# define a function for the regression model that has 4 parameters\n",
    "def model(X,Y,learning_rate,iteration):\n",
    "    # m is the size of the training set\n",
    "    m = Y.size\n",
    "    #  theta is the coefficients, initialized at random and the value of theta is updated using the gradient descent\n",
    "    theta = np.zeros((2,1))\n",
    "    # what is the cost function at each iteration?\n",
    "    cost_in_iteration = []\n",
    "\n",
    "    # for loop for what happens at each iteration\n",
    "    for i in range (iteration):\n",
    "        y = np.dot(X, theta)\n",
    "        costfunction = (1/(2*m))*np.sum(np.square(y-Y))              \n",
    "        d_theta = (1/m)*np.dot(X.T, y-Y)\n",
    "        theta = theta-learning_rate*d_theta\n",
    "        cost_in_iteration.append(costfunction)\n",
    "    return theta, cost_in_iteration"
   ]
  },
  {
   "cell_type": "code",
   "execution_count": 10,
   "metadata": {},
   "outputs": [],
   "source": [
    "# define learning rate and iteartion\n",
    "iteration = 100\n",
    "learning_rate = 0.00059\n",
    "# costfunction\n",
    "# call the function\n",
    "theta,cost_in_iteration= model(X, Y, learning_rate=learning_rate,iteration=iteration)"
   ]
  },
  {
   "cell_type": "code",
   "execution_count": 11,
   "metadata": {},
   "outputs": [
    {
     "data": {
      "text/plain": [
       "array([9.90225986])"
      ]
     },
     "execution_count": 11,
     "metadata": {},
     "output_type": "execute_result"
    }
   ],
   "source": [
    "# predict for when X is a given value\n",
    "np.dot([1, 12.45], theta)"
   ]
  },
  {
   "cell_type": "code",
   "execution_count": 12,
   "metadata": {},
   "outputs": [
    {
     "name": "stdout",
     "output_type": "stream",
     "text": [
      "Our model predicts the profit of cities with 5.7 population as : 4.55\n",
      "Our model predicts the profit of cities with 18.89 population as : 15.01\n",
      "Our model predicts the profit of cities with 13.94 population as : 11.08\n",
      "Our model predicts the profit of cities with 7.9 population as : 6.3\n",
      "Our model predicts the profit of cities with 10.89 population as : 8.67\n",
      "Our model predicts the profit of cities with 15.91 population as : 12.64\n"
     ]
    }
   ],
   "source": [
    "cities = np.array([[1, 5.7], [1, 18.89], [1, 13.94], [1,\n",
    "7.90], [1, 10.89], [1, 15.91]])\n",
    "for city in cities :\n",
    "    print(\"Our model predicts the profit of cities with\",\n",
    "    city[1], \"population as :\", round(np.dot(city, theta)[0],\n",
    "    2))"
   ]
  },
  {
   "cell_type": "code",
   "execution_count": 13,
   "metadata": {},
   "outputs": [
    {
     "data": {
      "image/png": "[encoded data removed]",
      "text/plain": [
       "<Figure size 432x288 with 1 Axes>"
      ]
     },
     "metadata": {
      "needs_background": "light"
     },
     "output_type": "display_data"
    }
   ],
   "source": [
    "costvsiteration = np.arange(0, iteration)\n",
    "plt.plot(cost_in_iteration, costvsiteration)\n",
    "plt.show()"
   ]
  },
  {
   "cell_type": "code",
   "execution_count": null,
   "metadata": {},
   "outputs": [],
   "source": []
  }
 ],
 "metadata": {
  "kernelspec": {
   "display_name": "Python 3",
   "language": "python",
   "name": "python3"
  },
  "language_info": {
   "codemirror_mode": {
    "name": "ipython",
    "version": 3
   },
   "file_extension": ".py",
   "mimetype": "text/x-python",
   "name": "python",
   "nbconvert_exporter": "python",
   "pygments_lexer": "ipython3",
   "version": "3.7.4"
  }
 },
 "nbformat": 4,
 "nbformat_minor": 2
}
